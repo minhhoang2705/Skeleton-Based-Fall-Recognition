{
 "cells": [
  {
   "cell_type": "code",
   "execution_count": 1,
   "metadata": {},
   "outputs": [
    {
     "ename": "FileNotFoundError",
     "evalue": "[Errno 2] No such file or directory: 'fan-speed-curve-current.csv'",
     "output_type": "error",
     "traceback": [
      "\u001b[31m---------------------------------------------------------------------------\u001b[39m",
      "\u001b[31mFileNotFoundError\u001b[39m                         Traceback (most recent call last)",
      "\u001b[36mCell\u001b[39m\u001b[36m \u001b[39m\u001b[32mIn[1]\u001b[39m\u001b[32m, line 11\u001b[39m\n\u001b[32m      8\u001b[39m new_profile_temperature = np.array([])\n\u001b[32m      9\u001b[39m new_profile_fan_speed = np.array([])\n\u001b[32m---> \u001b[39m\u001b[32m11\u001b[39m fan_speed_curve_file_current = \u001b[38;5;28;43mopen\u001b[39;49m\u001b[43m(\u001b[49m\u001b[33;43m'\u001b[39;49m\u001b[33;43mfan-speed-curve-current.csv\u001b[39;49m\u001b[33;43m'\u001b[39;49m\u001b[43m,\u001b[49m\u001b[43m \u001b[49m\u001b[33;43m'\u001b[39;49m\u001b[33;43mr\u001b[39;49m\u001b[33;43m'\u001b[39;49m\u001b[43m)\u001b[49m\n\u001b[32m     12\u001b[39m \u001b[38;5;28;01mfor\u001b[39;00m line \u001b[38;5;129;01min\u001b[39;00m fan_speed_curve_file_current:\n\u001b[32m     13\u001b[39m     line = line.strip()\n",
      "\u001b[36mFile \u001b[39m\u001b[32m~/miniconda3/lib/python3.12/site-packages/IPython/core/interactiveshell.py:325\u001b[39m, in \u001b[36m_modified_open\u001b[39m\u001b[34m(file, *args, **kwargs)\u001b[39m\n\u001b[32m    318\u001b[39m \u001b[38;5;28;01mif\u001b[39;00m file \u001b[38;5;129;01min\u001b[39;00m {\u001b[32m0\u001b[39m, \u001b[32m1\u001b[39m, \u001b[32m2\u001b[39m}:\n\u001b[32m    319\u001b[39m     \u001b[38;5;28;01mraise\u001b[39;00m \u001b[38;5;167;01mValueError\u001b[39;00m(\n\u001b[32m    320\u001b[39m         \u001b[33mf\u001b[39m\u001b[33m\"\u001b[39m\u001b[33mIPython won\u001b[39m\u001b[33m'\u001b[39m\u001b[33mt let you open fd=\u001b[39m\u001b[38;5;132;01m{\u001b[39;00mfile\u001b[38;5;132;01m}\u001b[39;00m\u001b[33m by default \u001b[39m\u001b[33m\"\u001b[39m\n\u001b[32m    321\u001b[39m         \u001b[33m\"\u001b[39m\u001b[33mas it is likely to crash IPython. If you know what you are doing, \u001b[39m\u001b[33m\"\u001b[39m\n\u001b[32m    322\u001b[39m         \u001b[33m\"\u001b[39m\u001b[33myou can use builtins\u001b[39m\u001b[33m'\u001b[39m\u001b[33m open.\u001b[39m\u001b[33m\"\u001b[39m\n\u001b[32m    323\u001b[39m     )\n\u001b[32m--> \u001b[39m\u001b[32m325\u001b[39m \u001b[38;5;28;01mreturn\u001b[39;00m \u001b[43mio_open\u001b[49m\u001b[43m(\u001b[49m\u001b[43mfile\u001b[49m\u001b[43m,\u001b[49m\u001b[43m \u001b[49m\u001b[43m*\u001b[49m\u001b[43margs\u001b[49m\u001b[43m,\u001b[49m\u001b[43m \u001b[49m\u001b[43m*\u001b[49m\u001b[43m*\u001b[49m\u001b[43mkwargs\u001b[49m\u001b[43m)\u001b[49m\n",
      "\u001b[31mFileNotFoundError\u001b[39m: [Errno 2] No such file or directory: 'fan-speed-curve-current.csv'"
     ]
    }
   ],
   "source": [
    "\"\"\"RedLogo PERSONAL GPU fan speed curve tuning project\n",
    "on Linux Ubuntu, GPU: RTX3090\"\"\"\n",
    "import matplotlib.pyplot as plt\n",
    "import numpy as np\n",
    "\n",
    "old_profile_temperature = np.array([])\n",
    "old_profile_fan_speed = np.array([])\n",
    "new_profile_temperature = np.array([])\n",
    "new_profile_fan_speed = np.array([])\n",
    "\n",
    "fan_speed_curve_file_current = open('fan-speed-curve-current.csv', 'r')\n",
    "for line in fan_speed_curve_file_current:\n",
    "    line = line.strip()\n",
    "    if line:\n",
    "        line_split = line.split(',')\n",
    "        old_profile_temperature = np.append(old_profile_temperature, line_split[0])\n",
    "        old_profile_fan_speed = np.append(old_profile_fan_speed, line_split[1])\n",
    "fan_speed_curve_file_current.close()\n",
    "\n",
    "fan_speed_curve_file_new_design = open('fan-speed-curve-new-design.csv', 'r')\n",
    "for line in fan_speed_curve_file_new_design:\n",
    "    line = line.strip()\n",
    "    if line:\n",
    "        line_split = line.split(',')\n",
    "        new_profile_temperature = np.append(new_profile_temperature, line_split[0])\n",
    "        new_profile_fan_speed = np.append(new_profile_fan_speed, line_split[1])\n",
    "fan_speed_curve_file_new_design.close()\n",
    "\n",
    "fig = plt.figure()\n",
    "plt.plot(old_profile_temperature, old_profile_fan_speed, 'ro-', ms=5)\n",
    "plt.plot(new_profile_temperature, new_profile_fan_speed, 'gx-', ms=5)\n",
    "plt.title('RedLogo Linux Ubuntu GPU fan speed curves')\n",
    "plt.legend(['current fan speed profile', 'fan speed profile to be deployed'])\n",
    "horizontal_lines = np.linspace(0, 100, 21)\n",
    "for item in horizontal_lines:\n",
    "    plt.axhline(item, color='grey', lw=0.5)\n",
    "vertical_lines = np.linspace(0, 80, 41)\n",
    "for item in vertical_lines:\n",
    "    plt.axvline(item, color='grey', lw=0.5)\n",
    "plt.xticks(np.arange(0, 82, 2))\n",
    "plt.yticks(np.arange(0, 105, 5))\n",
    "\n",
    "plt.show()"
   ]
  }
 ],
 "metadata": {
  "kernelspec": {
   "display_name": "base",
   "language": "python",
   "name": "python3"
  },
  "language_info": {
   "codemirror_mode": {
    "name": "ipython",
    "version": 3
   },
   "file_extension": ".py",
   "mimetype": "text/x-python",
   "name": "python",
   "nbconvert_exporter": "python",
   "pygments_lexer": "ipython3",
   "version": "3.12.2"
  }
 },
 "nbformat": 4,
 "nbformat_minor": 2
}
